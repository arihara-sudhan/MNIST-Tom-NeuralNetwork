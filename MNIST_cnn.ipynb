{
 "cells": [
  {
   "cell_type": "markdown",
   "id": "9dfc3a09",
   "metadata": {},
   "source": [
    "# IMPORT LIBRARIES"
   ]
  },
  {
   "cell_type": "code",
   "execution_count": 43,
   "id": "9817f3ea",
   "metadata": {},
   "outputs": [],
   "source": [
    "import torch\n",
    "from torchvision import datasets\n",
    "import torchvision\n",
    "from torchvision.transforms import ToTensor\n",
    "from torch.utils.data import DataLoader\n",
    "import numpy"
   ]
  },
  {
   "cell_type": "markdown",
   "id": "361d7aeb",
   "metadata": {},
   "source": [
    "# LOAD TRAIN & TEST DATA"
   ]
  },
  {
   "cell_type": "code",
   "execution_count": 2,
   "id": "85fe06ba",
   "metadata": {},
   "outputs": [],
   "source": [
    "train_data = datasets.MNIST(\n",
    "    root = 'data',\n",
    "    train = True,                         \n",
    "    transform = ToTensor(), \n",
    "    download = True,            \n",
    ")\n",
    "test_data = datasets.MNIST(\n",
    "    root = 'data', \n",
    "    train = False, \n",
    "    transform = ToTensor()\n",
    ")"
   ]
  },
  {
   "cell_type": "markdown",
   "id": "2355dbe6",
   "metadata": {},
   "source": [
    "# DATA LOADERS"
   ]
  },
  {
   "cell_type": "code",
   "execution_count": 4,
   "id": "adabc92c",
   "metadata": {},
   "outputs": [],
   "source": [
    "loaders = {\n",
    "    'train' : DataLoader(train_data, \n",
    "                        batch_size=100, \n",
    "                        shuffle=True, \n",
    "                        num_workers=1),\n",
    "    'test'  : DataLoader(test_data, \n",
    "                        batch_size=100, \n",
    "                        shuffle=True, \n",
    "                        num_workers=1), }"
   ]
  },
  {
   "cell_type": "markdown",
   "id": "1f7b90fe",
   "metadata": {},
   "source": [
    "# THE CNN"
   ]
  },
  {
   "cell_type": "code",
   "execution_count": 5,
   "id": "73779fed",
   "metadata": {},
   "outputs": [],
   "source": [
    "import torch.nn as nn\n",
    "\n",
    "class CNN(nn.Module):\n",
    "    def __init__(self):\n",
    "        super(CNN, self).__init__()\n",
    "        self.conv1 = nn.Sequential(         \n",
    "            nn.Conv2d(\n",
    "                in_channels=1,              \n",
    "                out_channels=16,            \n",
    "                kernel_size=5,              \n",
    "                stride=1,                   \n",
    "                padding=2,                  \n",
    "            ),                              \n",
    "            nn.ReLU(),                      \n",
    "            nn.MaxPool2d(kernel_size=2),    \n",
    "        )\n",
    "        self.conv2 = nn.Sequential(         \n",
    "            nn.Conv2d(16, 32, 5, 1, 2),     \n",
    "            nn.ReLU(),                      \n",
    "            nn.MaxPool2d(2),                \n",
    "        )\n",
    "        self.out = nn.Linear(32 * 7 * 7, 10)\n",
    "        \n",
    "    def forward(self, x):\n",
    "        x = self.conv1(x)\n",
    "        x = self.conv2(x)\n",
    "        x = x.view(x.size(0), -1)       \n",
    "        output = self.out(x)\n",
    "        return output, x\n",
    "    "
   ]
  },
  {
   "cell_type": "markdown",
   "id": "d35ffdf5",
   "metadata": {},
   "source": [
    "# LOSS FUNCTION & ACTIVATION FUNCTION"
   ]
  },
  {
   "cell_type": "code",
   "execution_count": 9,
   "id": "35d03ff3",
   "metadata": {},
   "outputs": [],
   "source": [
    "from torch import optim\n",
    "cnn = CNN()\n",
    "optimizer = optim.Adam(cnn.parameters(), lr = 0.01) \n",
    "loss_func = nn.CrossEntropyLoss()\n"
   ]
  },
  {
   "cell_type": "markdown",
   "id": "b12c6bde",
   "metadata": {},
   "source": [
    "# TRAIN THE NETWORK"
   ]
  },
  {
   "cell_type": "code",
   "execution_count": 14,
   "id": "15424ed4",
   "metadata": {},
   "outputs": [
    {
     "name": "stdout",
     "output_type": "stream",
     "text": [
      "Epoch [1/10], Step [100/600], Loss: 0.0930\n",
      "Epoch [1/10], Step [200/600], Loss: 0.1020\n",
      "Epoch [1/10], Step [300/600], Loss: 0.0265\n",
      "Epoch [1/10], Step [400/600], Loss: 0.1315\n",
      "Epoch [1/10], Step [500/600], Loss: 0.0263\n",
      "Epoch [1/10], Step [600/600], Loss: 0.0213\n",
      "Epoch [2/10], Step [100/600], Loss: 0.0509\n",
      "Epoch [2/10], Step [200/600], Loss: 0.0096\n",
      "Epoch [2/10], Step [300/600], Loss: 0.0351\n",
      "Epoch [2/10], Step [400/600], Loss: 0.0196\n",
      "Epoch [2/10], Step [500/600], Loss: 0.0419\n",
      "Epoch [2/10], Step [600/600], Loss: 0.3183\n",
      "Epoch [3/10], Step [100/600], Loss: 0.0919\n",
      "Epoch [3/10], Step [200/600], Loss: 0.0039\n",
      "Epoch [3/10], Step [300/600], Loss: 0.0887\n",
      "Epoch [3/10], Step [400/600], Loss: 0.0275\n",
      "Epoch [3/10], Step [500/600], Loss: 0.0100\n",
      "Epoch [3/10], Step [600/600], Loss: 0.0213\n",
      "Epoch [4/10], Step [100/600], Loss: 0.0778\n",
      "Epoch [4/10], Step [200/600], Loss: 0.0007\n",
      "Epoch [4/10], Step [300/600], Loss: 0.0349\n",
      "Epoch [4/10], Step [400/600], Loss: 0.0145\n",
      "Epoch [4/10], Step [500/600], Loss: 0.0194\n",
      "Epoch [4/10], Step [600/600], Loss: 0.0293\n",
      "Epoch [5/10], Step [100/600], Loss: 0.0413\n",
      "Epoch [5/10], Step [200/600], Loss: 0.0102\n",
      "Epoch [5/10], Step [300/600], Loss: 0.0598\n",
      "Epoch [5/10], Step [400/600], Loss: 0.0011\n",
      "Epoch [5/10], Step [500/600], Loss: 0.0601\n",
      "Epoch [5/10], Step [600/600], Loss: 0.2250\n",
      "Epoch [6/10], Step [100/600], Loss: 0.0065\n",
      "Epoch [6/10], Step [200/600], Loss: 0.0108\n",
      "Epoch [6/10], Step [300/600], Loss: 0.0115\n",
      "Epoch [6/10], Step [400/600], Loss: 0.0598\n",
      "Epoch [6/10], Step [500/600], Loss: 0.0400\n",
      "Epoch [6/10], Step [600/600], Loss: 0.0156\n",
      "Epoch [7/10], Step [100/600], Loss: 0.0387\n",
      "Epoch [7/10], Step [200/600], Loss: 0.1445\n",
      "Epoch [7/10], Step [300/600], Loss: 0.0030\n",
      "Epoch [7/10], Step [400/600], Loss: 0.0654\n",
      "Epoch [7/10], Step [500/600], Loss: 0.0252\n",
      "Epoch [7/10], Step [600/600], Loss: 0.0123\n",
      "Epoch [8/10], Step [100/600], Loss: 0.0302\n",
      "Epoch [8/10], Step [200/600], Loss: 0.0424\n",
      "Epoch [8/10], Step [300/600], Loss: 0.0015\n",
      "Epoch [8/10], Step [400/600], Loss: 0.0152\n",
      "Epoch [8/10], Step [500/600], Loss: 0.0002\n",
      "Epoch [8/10], Step [600/600], Loss: 0.0685\n",
      "Epoch [9/10], Step [100/600], Loss: 0.0079\n",
      "Epoch [9/10], Step [200/600], Loss: 0.0061\n",
      "Epoch [9/10], Step [300/600], Loss: 0.0140\n",
      "Epoch [9/10], Step [400/600], Loss: 0.1225\n",
      "Epoch [9/10], Step [500/600], Loss: 0.0110\n",
      "Epoch [9/10], Step [600/600], Loss: 0.0104\n",
      "Epoch [10/10], Step [100/600], Loss: 0.0037\n",
      "Epoch [10/10], Step [200/600], Loss: 0.0001\n",
      "Epoch [10/10], Step [300/600], Loss: 0.0009\n",
      "Epoch [10/10], Step [400/600], Loss: 0.0197\n",
      "Epoch [10/10], Step [500/600], Loss: 0.0917\n",
      "Epoch [10/10], Step [600/600], Loss: 0.0048\n"
     ]
    }
   ],
   "source": [
    "from torch.autograd import Variable\n",
    "num_epochs = 10\n",
    "def train(num_epochs, cnn, loaders):\n",
    "    cnn.train()\n",
    "    total_step = len(loaders['train'])\n",
    "    for epoch in range(num_epochs):\n",
    "        for i, (images, labels) in enumerate(loaders['train']):\n",
    "            b_x = Variable(images)   # batch x\n",
    "            b_y = Variable(labels)   # batch y\n",
    "            output = cnn(b_x)[0]               \n",
    "            loss = loss_func(output, b_y)\n",
    "            optimizer.zero_grad()           \n",
    "            loss.backward()\n",
    "            optimizer.step()            \n",
    "            if (i+1) % 100 == 0:\n",
    "                print ('Epoch [{}/{}], Step [{}/{}], Loss: {:.4f}'.format(epoch + 1, num_epochs, i + 1, total_step, loss.item()))\n",
    "                \n",
    "train(num_epochs, cnn, loaders)"
   ]
  },
  {
   "cell_type": "markdown",
   "id": "1dce22e9",
   "metadata": {},
   "source": [
    "# LET'S TEST"
   ]
  },
  {
   "cell_type": "code",
   "execution_count": 37,
   "id": "93605ad1",
   "metadata": {},
   "outputs": [
    {
     "name": "stdout",
     "output_type": "stream",
     "text": [
      "0.9858999999999999\n"
     ]
    }
   ],
   "source": [
    "with torch.no_grad():\n",
    "    correct = 0\n",
    "    total = 0\n",
    "    accuracy = 0\n",
    "    for data in loaders['test']:\n",
    "        images,labels = data\n",
    "        test_output, last_layer = cnn(images)\n",
    "        pred_y = torch.max(test_output, 1)[1].data.squeeze()\n",
    "        accuracy += (pred_y == labels).sum().item() / float(labels.size(0))\n",
    "    print(accuracy/len(loaders['test']))"
   ]
  },
  {
   "cell_type": "code",
   "execution_count": 39,
   "id": "a7f79820",
   "metadata": {},
   "outputs": [],
   "source": [
    "def digit(th):\n",
    "    return str(int(torch.argmax(model(images[th].view(-1, 784))[0])))"
   ]
  },
  {
   "cell_type": "markdown",
   "id": "af613927",
   "metadata": {},
   "source": [
    "# PREDICTIONS"
   ]
  },
  {
   "cell_type": "code",
   "execution_count": 42,
   "id": "4a7d3036",
   "metadata": {},
   "outputs": [
    {
     "name": "stdout",
     "output_type": "stream",
     "text": [
      "Prediction number: [1 1 9 3 2 5 1 9 7 1]\n",
      "Actual number: [1 1 9 3 2 5 1 9 7 1]\n"
     ]
    }
   ],
   "source": [
    "sample = next(iter(loaders['test']))\n",
    "imgs, lbls = sample\n",
    "actual_number = lbls[:10].numpy()\n",
    "test_output, last_layer = cnn(imgs[:10])\n",
    "pred_y = torch.max(test_output, 1)[1].data.numpy().squeeze()\n",
    "print(f'Prediction number: {pred_y}')\n",
    "print(f'Actual number: {actual_number}')"
   ]
  }
 ],
 "metadata": {
  "kernelspec": {
   "display_name": "Python 3 (ipykernel)",
   "language": "python",
   "name": "python3"
  },
  "language_info": {
   "codemirror_mode": {
    "name": "ipython",
    "version": 3
   },
   "file_extension": ".py",
   "mimetype": "text/x-python",
   "name": "python",
   "nbconvert_exporter": "python",
   "pygments_lexer": "ipython3",
   "version": "3.9.7"
  }
 },
 "nbformat": 4,
 "nbformat_minor": 5
}
