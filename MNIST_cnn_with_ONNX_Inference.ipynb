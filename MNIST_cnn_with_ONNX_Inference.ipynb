{
 "cells": [
  {
   "cell_type": "markdown",
   "id": "9dfc3a09",
   "metadata": {},
   "source": [
    "# IMPORT LIBRARIES"
   ]
  },
  {
   "cell_type": "code",
   "execution_count": 2,
   "id": "9817f3ea",
   "metadata": {},
   "outputs": [],
   "source": [
    "import torch\n",
    "from torchvision import datasets\n",
    "import torchvision\n",
    "from torchvision.transforms import ToTensor\n",
    "from torch.utils.data import DataLoader\n",
    "import numpy\n"
   ]
  },
  {
   "cell_type": "markdown",
   "id": "361d7aeb",
   "metadata": {},
   "source": [
    "# LOAD TRAIN & TEST DATA"
   ]
  },
  {
   "cell_type": "code",
   "execution_count": 3,
   "id": "85fe06ba",
   "metadata": {},
   "outputs": [],
   "source": [
    "train_data = datasets.MNIST(\n",
    "    root = 'data',\n",
    "    train = True,                         \n",
    "    transform = ToTensor(), \n",
    "    download = True,            \n",
    ")\n",
    "test_data = datasets.MNIST(\n",
    "    root = 'data', \n",
    "    train = False, \n",
    "    transform = ToTensor()\n",
    ")"
   ]
  },
  {
   "cell_type": "markdown",
   "id": "2355dbe6",
   "metadata": {},
   "source": [
    "# DATA LOADERS"
   ]
  },
  {
   "cell_type": "code",
   "execution_count": 4,
   "id": "adabc92c",
   "metadata": {},
   "outputs": [],
   "source": [
    "loaders = {\n",
    "    'train' : DataLoader(train_data, \n",
    "                        batch_size=100, \n",
    "                        shuffle=True, \n",
    "                        num_workers=1),\n",
    "    'test'  : DataLoader(test_data, \n",
    "                        batch_size=100, \n",
    "                        shuffle=True, \n",
    "                        num_workers=1), }"
   ]
  },
  {
   "cell_type": "markdown",
   "id": "1f7b90fe",
   "metadata": {},
   "source": [
    "# THE CNN"
   ]
  },
  {
   "cell_type": "code",
   "execution_count": 5,
   "id": "73779fed",
   "metadata": {},
   "outputs": [],
   "source": [
    "import torch.nn as nn\n",
    "\n",
    "class CNN(nn.Module):\n",
    "    def __init__(self):\n",
    "        super(CNN, self).__init__()\n",
    "        self.conv1 = nn.Sequential(         \n",
    "            nn.Conv2d(\n",
    "                in_channels=1,              \n",
    "                out_channels=16,            \n",
    "                kernel_size=5,              \n",
    "                stride=1,                   \n",
    "                padding=2,                  \n",
    "            ),                              \n",
    "            nn.ReLU(),                      \n",
    "            nn.MaxPool2d(kernel_size=2),    \n",
    "        )\n",
    "        self.conv2 = nn.Sequential(         \n",
    "            nn.Conv2d(16, 32, 5, 1, 2),     \n",
    "            nn.ReLU(),                      \n",
    "            nn.MaxPool2d(2),                \n",
    "        )\n",
    "        self.out = nn.Linear(32 * 7 * 7, 10)\n",
    "        \n",
    "    def forward(self, x):\n",
    "        x = self.conv1(x)\n",
    "        x = self.conv2(x)\n",
    "        x = x.view(x.size(0), -1)       \n",
    "        output = self.out(x)\n",
    "        return output, x\n",
    "    "
   ]
  },
  {
   "cell_type": "markdown",
   "id": "d35ffdf5",
   "metadata": {},
   "source": [
    "# LOSS FUNCTION & ACTIVATION FUNCTION"
   ]
  },
  {
   "cell_type": "code",
   "execution_count": 6,
   "id": "35d03ff3",
   "metadata": {},
   "outputs": [],
   "source": [
    "from torch import optim\n",
    "cnn = CNN()\n",
    "optimizer = optim.Adam(cnn.parameters(), lr = 0.01) \n",
    "loss_func = nn.CrossEntropyLoss()\n"
   ]
  },
  {
   "cell_type": "markdown",
   "id": "b12c6bde",
   "metadata": {},
   "source": [
    "# TRAIN THE NETWORK"
   ]
  },
  {
   "cell_type": "code",
   "execution_count": 7,
   "id": "15424ed4",
   "metadata": {},
   "outputs": [
    {
     "name": "stdout",
     "output_type": "stream",
     "text": [
      "Epoch [1/10], Step [100/600], Loss: 0.0551\n",
      "Epoch [1/10], Step [200/600], Loss: 0.0413\n",
      "Epoch [1/10], Step [300/600], Loss: 0.1679\n",
      "Epoch [1/10], Step [400/600], Loss: 0.1069\n",
      "Epoch [1/10], Step [500/600], Loss: 0.0339\n",
      "Epoch [1/10], Step [600/600], Loss: 0.0274\n",
      "Epoch [2/10], Step [100/600], Loss: 0.0804\n",
      "Epoch [2/10], Step [200/600], Loss: 0.0700\n",
      "Epoch [2/10], Step [300/600], Loss: 0.0235\n",
      "Epoch [2/10], Step [400/600], Loss: 0.0840\n",
      "Epoch [2/10], Step [500/600], Loss: 0.0223\n",
      "Epoch [2/10], Step [600/600], Loss: 0.0018\n",
      "Epoch [3/10], Step [100/600], Loss: 0.0079\n",
      "Epoch [3/10], Step [200/600], Loss: 0.0992\n",
      "Epoch [3/10], Step [300/600], Loss: 0.0997\n",
      "Epoch [3/10], Step [400/600], Loss: 0.0147\n",
      "Epoch [3/10], Step [500/600], Loss: 0.0174\n",
      "Epoch [3/10], Step [600/600], Loss: 0.0763\n",
      "Epoch [4/10], Step [100/600], Loss: 0.0590\n",
      "Epoch [4/10], Step [200/600], Loss: 0.0970\n",
      "Epoch [4/10], Step [300/600], Loss: 0.1100\n",
      "Epoch [4/10], Step [400/600], Loss: 0.0865\n",
      "Epoch [4/10], Step [500/600], Loss: 0.0067\n",
      "Epoch [4/10], Step [600/600], Loss: 0.0238\n",
      "Epoch [5/10], Step [100/600], Loss: 0.0041\n",
      "Epoch [5/10], Step [200/600], Loss: 0.0439\n",
      "Epoch [5/10], Step [300/600], Loss: 0.0560\n",
      "Epoch [5/10], Step [400/600], Loss: 0.0902\n",
      "Epoch [5/10], Step [500/600], Loss: 0.0559\n",
      "Epoch [5/10], Step [600/600], Loss: 0.0198\n",
      "Epoch [6/10], Step [100/600], Loss: 0.0297\n",
      "Epoch [6/10], Step [200/600], Loss: 0.0321\n",
      "Epoch [6/10], Step [300/600], Loss: 0.0057\n",
      "Epoch [6/10], Step [400/600], Loss: 0.1528\n",
      "Epoch [6/10], Step [500/600], Loss: 0.0164\n",
      "Epoch [6/10], Step [600/600], Loss: 0.0853\n",
      "Epoch [7/10], Step [100/600], Loss: 0.0131\n",
      "Epoch [7/10], Step [200/600], Loss: 0.0126\n",
      "Epoch [7/10], Step [300/600], Loss: 0.0181\n",
      "Epoch [7/10], Step [400/600], Loss: 0.0384\n",
      "Epoch [7/10], Step [500/600], Loss: 0.0452\n",
      "Epoch [7/10], Step [600/600], Loss: 0.0343\n",
      "Epoch [8/10], Step [100/600], Loss: 0.0014\n",
      "Epoch [8/10], Step [200/600], Loss: 0.0087\n",
      "Epoch [8/10], Step [300/600], Loss: 0.0144\n",
      "Epoch [8/10], Step [400/600], Loss: 0.0145\n",
      "Epoch [8/10], Step [500/600], Loss: 0.0059\n",
      "Epoch [8/10], Step [600/600], Loss: 0.0911\n",
      "Epoch [9/10], Step [100/600], Loss: 0.0035\n",
      "Epoch [9/10], Step [200/600], Loss: 0.0161\n",
      "Epoch [9/10], Step [300/600], Loss: 0.0930\n",
      "Epoch [9/10], Step [400/600], Loss: 0.0045\n",
      "Epoch [9/10], Step [500/600], Loss: 0.0005\n",
      "Epoch [9/10], Step [600/600], Loss: 0.0036\n",
      "Epoch [10/10], Step [100/600], Loss: 0.0157\n",
      "Epoch [10/10], Step [200/600], Loss: 0.0011\n",
      "Epoch [10/10], Step [300/600], Loss: 0.0004\n",
      "Epoch [10/10], Step [400/600], Loss: 0.2218\n",
      "Epoch [10/10], Step [500/600], Loss: 0.1374\n",
      "Epoch [10/10], Step [600/600], Loss: 0.0008\n"
     ]
    }
   ],
   "source": [
    "from torch.autograd import Variable\n",
    "num_epochs = 10\n",
    "def train(num_epochs, cnn, loaders):\n",
    "    cnn.train()\n",
    "    total_step = len(loaders['train'])\n",
    "    for epoch in range(num_epochs):\n",
    "        for i, (images, labels) in enumerate(loaders['train']):\n",
    "            b_x = Variable(images)   # batch x\n",
    "            b_y = Variable(labels)   # batch y\n",
    "            output = cnn(b_x)[0]               \n",
    "            loss = loss_func(output, b_y)\n",
    "            optimizer.zero_grad()           \n",
    "            loss.backward()\n",
    "            optimizer.step()            \n",
    "            if (i+1) % 100 == 0:\n",
    "                print ('Epoch [{}/{}], Step [{}/{}], Loss: {:.4f}'.format(epoch + 1, num_epochs, i + 1, total_step, loss.item()))\n",
    "                \n",
    "train(num_epochs, cnn, loaders)"
   ]
  },
  {
   "cell_type": "markdown",
   "id": "1dce22e9",
   "metadata": {},
   "source": [
    "# LET'S TEST"
   ]
  },
  {
   "cell_type": "code",
   "execution_count": 8,
   "id": "93605ad1",
   "metadata": {},
   "outputs": [
    {
     "name": "stdout",
     "output_type": "stream",
     "text": [
      "0.09239999999999998\n"
     ]
    }
   ],
   "source": [
    "with torch.no_grad():\n",
    "    correct = 0\n",
    "    total = 0\n",
    "    accuracy = 0\n",
    "    for data in loaders['test']:\n",
    "        images,labels = data\n",
    "        test_output, last_layer = cnn(images)\n",
    "        pred_y = torch.max(test_output, 1)[1].data.squeeze()\n",
    "        accuracy += (pred_y == labels).sum().item() / float(labels.size(0))\n",
    "    print(accuracy/len(loaders['test']))"
   ]
  },
  {
   "cell_type": "markdown",
   "id": "af613927",
   "metadata": {},
   "source": [
    "# PREDICTIONS"
   ]
  },
  {
   "cell_type": "code",
   "execution_count": 9,
   "id": "4a7d3036",
   "metadata": {},
   "outputs": [
    {
     "name": "stdout",
     "output_type": "stream",
     "text": [
      "Prediction number: [8 8 8 8 8 8 8 8 8 8]\n",
      "Actual number: [9 1 8 0 0 0 3 5 1 4]\n"
     ]
    }
   ],
   "source": [
    "sample = next(iter(loaders['test']))\n",
    "imgs, lbls = sample\n",
    "actual_number = lbls[:10].numpy()\n",
    "test_output, last_layer = cnn(imgs[:10])\n",
    "pred_y = torch.max(test_output, 1)[1].data.numpy().squeeze()\n",
    "print(f'Prediction number: {pred_y}')\n",
    "print(f'Actual number: {actual_number}')"
   ]
  },
  {
   "cell_type": "code",
   "execution_count": 15,
   "id": "8f7c3f2b",
   "metadata": {},
   "outputs": [
    {
     "name": "stdout",
     "output_type": "stream",
     "text": [
      "CNN(\n",
      "  (conv1): Sequential(\n",
      "    (0): Conv2d(1, 16, kernel_size=(5, 5), stride=(1, 1), padding=(2, 2))\n",
      "    (1): ReLU()\n",
      "    (2): MaxPool2d(kernel_size=2, stride=2, padding=0, dilation=1, ceil_mode=False)\n",
      "  )\n",
      "  (conv2): Sequential(\n",
      "    (0): Conv2d(16, 32, kernel_size=(5, 5), stride=(1, 1), padding=(2, 2))\n",
      "    (1): ReLU()\n",
      "    (2): MaxPool2d(kernel_size=2, stride=2, padding=0, dilation=1, ceil_mode=False)\n",
      "  )\n",
      "  (out): Linear(in_features=1568, out_features=10, bias=True)\n",
      ")\n"
     ]
    }
   ],
   "source": [
    "torch.save(cnn,\"models/MNIST_cnn.pt\")\n",
    "model = torch.load('models/MNIST_cnn.pt')\n",
    "print(model)"
   ]
  },
  {
   "cell_type": "markdown",
   "id": "4e0f16aa",
   "metadata": {},
   "source": [
    "# ONNX"
   ]
  },
  {
   "cell_type": "code",
   "execution_count": 16,
   "id": "5d70138d",
   "metadata": {},
   "outputs": [
    {
     "name": "stdout",
     "output_type": "stream",
     "text": [
      "================ Diagnostic Run torch.onnx.export version 2.0.0 ================\n",
      "verbose: False, log level: Level.ERROR\n",
      "======================= 0 NONE 0 NOTE 0 WARNING 0 ERROR ========================\n",
      "\n"
     ]
    }
   ],
   "source": [
    "torch.onnx.export(model,\n",
    "                 torch.randn(1, 1, 28, 28),\n",
    "                 \"models/mnist_cnn.onnx\",\n",
    "                 verbose=False,\n",
    "                 input_names=[ \"actual_input\" ],\n",
    "                 output_names=[ \"outputs\" ],\n",
    "                 export_params=True,\n",
    "                 )"
   ]
  },
  {
   "cell_type": "markdown",
   "id": "da66c460",
   "metadata": {},
   "source": [
    "# INFERENCING"
   ]
  },
  {
   "cell_type": "code",
   "execution_count": 88,
   "id": "8272ce06",
   "metadata": {},
   "outputs": [
    {
     "name": "stdout",
     "output_type": "stream",
     "text": [
      "PREDICTED : 6 ********* LABEL : 6\n",
      "PREDICTED : 8 ********* LABEL : 8\n",
      "PREDICTED : 9 ********* LABEL : 9\n",
      "PREDICTED : 0 ********* LABEL : 0\n",
      "PREDICTED : 5 ********* LABEL : 5\n",
      "PREDICTED : 6 ********* LABEL : 6\n",
      "PREDICTED : 0 ********* LABEL : 0\n",
      "PREDICTED : 7 ********* LABEL : 7\n",
      "PREDICTED : 3 ********* LABEL : 3\n",
      "PREDICTED : 0 ********* LABEL : 0\n"
     ]
    }
   ],
   "source": [
    "import onnxruntime\n",
    "import numpy as np\n",
    "\n",
    "def infer(img):\n",
    "    result = session.run([output_name], {input_name: img.numpy()})\n",
    "    prediction=int(np.argmax(np.array(result).squeeze()))\n",
    "    print(\"PREDICTED : \"+str(prediction),end=\" ********* \")\n",
    "    \n",
    "model_dir =\"./models\"\n",
    "model=model_dir+\"/mnist_cnn.onnx\"\n",
    "session = onnxruntime.InferenceSession(model)\n",
    "input_name = session.get_inputs()[0].name\n",
    "output_name = session.get_outputs()[0].name\n",
    "sample = next(iter(loaders['test']))\n",
    "imgs, lbls = sample\n",
    "for x in range(10):\n",
    "    infer(imgs[x:x+1])\n",
    "    print(\"LABEL : \"+str(int(lbls[x])))"
   ]
  }
 ],
 "metadata": {
  "kernelspec": {
   "display_name": "Python 3 (ipykernel)",
   "language": "python",
   "name": "python3"
  },
  "language_info": {
   "codemirror_mode": {
    "name": "ipython",
    "version": 3
   },
   "file_extension": ".py",
   "mimetype": "text/x-python",
   "name": "python",
   "nbconvert_exporter": "python",
   "pygments_lexer": "ipython3",
   "version": "3.9.7"
  }
 },
 "nbformat": 4,
 "nbformat_minor": 5
}
